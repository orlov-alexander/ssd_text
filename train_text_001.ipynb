{
 "cells": [
  {
   "cell_type": "markdown",
   "metadata": {},
   "source": [
    "<span style=\"color:blue\">just changed some imports</span>"
   ]
  },
  {
   "cell_type": "code",
   "execution_count": 1,
   "metadata": {
    "scrolled": true
   },
   "outputs": [
    {
     "name": "stderr",
     "output_type": "stream",
     "text": [
      "Using TensorFlow backend.\n"
     ]
    }
   ],
   "source": [
    "from keras.optimizers import Adam\n",
    "from keras.callbacks import ModelCheckpoint, EarlyStopping, ReduceLROnPlateau\n",
    "from keras import backend as K\n",
    "from keras.models import load_model\n",
    "from math import ceil\n",
    "import numpy as np\n",
    "from matplotlib import pyplot as plt\n",
    "\n",
    "%matplotlib inline\n",
    "\n",
    "from keras_ssd7 import build_model\n",
    "from keras_ssd_loss import SSDLoss\n",
    "from ssd_box_encode_decode_utils import SSDBoxEncoder, decode_y, decode_y2\n",
    "from ssd_batch_generator import BatchGenerator"
   ]
  },
  {
   "cell_type": "markdown",
   "metadata": {},
   "source": [
    "### 1. Introduction and building the model\n",
    "\n",
    "The cell below sets a number of parameters that define the model architecture and then calls the function `build_model()` to build the model. Read the comments and the documentation, but here are some further explanations for a few parameters:\n",
    "\n",
    "* Set the height, width, and number of color channels to whatever you want the model to accept as image input. This does not have to be the actual size of your input images! However, if your input images have a different size than you define as the model input here, you must use the `crop`, `resize` and/or `random_crop` features of the batch generator to convert your images to the model input size during training. If your dataset contains images of varying size, like the Pascal VOC datasets for example, use the `random_crop` feature of the batch generator to cope with that (see the documentation).\n",
    "* The number of classes includes the background class, i.e. if you have `n` positive classes in your dataset, set `n_classes = n + 1`. Class ID 0 must always be reserved for the background class, i.e. your positive classes must have positive integers as IDs.\n",
    "* The reason why the list of scaling factors has 5 elements even though there are only 4 predictor layers in this model is that the last scaling factor is used for the second aspect-ratio-1 box of the last predictor layer. See the documentation for details.\n",
    "* Alternatively to passing an explicit list of scaling factors, you could also just define a mimimum and a maximum scale, in which case the other scaling factors would be linearly interpolated. If you pass both min/max scaling factors and an explicit list, the explicit list will be used.\n",
    "* `build_model()` and `SSDBoxEncoder` have two arguments for the anchor box aspect ratios: `aspect_ratios_global` and `aspect_ratios_per_layer`. You can use either of the two. If you use `aspect_ratios_global`, then you just pass a list containing all aspect ratios for which you would like to create anchor boxes. Every aspect ratio you want to include must be listed once and only once. If you use `aspect_ratios_per_layer`, then you pass a list containing lists of aspect ratios for each individual predictor layer. In the example below, the model has four predictor layers, so you would pass a list containing four lists.\n",
    "* If `two_boxes_for_ar1 == True`, then two boxes of different size will be created for aspect ratio 1 for each predictor layer. See the documentation for details.\n",
    "* If `limit_boxes == True`, then the generated anchor boxes will be limited so that they lie entirely within the image boundaries. This feature is called 'clip' in the original Caffe implementation. Even though it may seem counterintuitive, it is recommended **not** to clip the anchor boxes. According to Wei Liu, the model performs slightly better when the anchors are not clipped.\n",
    "* The variances are scaling factors for the target coordinates. Leaving them at 1.0 for each of the four box coordinates means that they have no effect whatsoever. Decreasing them to below 1.0 **upscales** the gradient for the respective target box coordinate.\n",
    "* The `coords` argument lets you choose what coordinate format the model should learn. If you choose the 'centroids' format, the targets will be converted to the (cx, cy, w, h) coordinate format used in the original implementation. If you choose the 'minmax' format, the targets will be converted to the coordinate format (xmin, xmax, ymin, ymax). The model, of course, will learn whatever the targets tell it to.\n",
    "* `normalize_coords` converts all absolute ground truth and anchor box coordinates to relative coordinates, i.e. to coordinates that lie within [0,1] relative to the image height and width. Whether you use absolute or relative coordinates has no effect on the training - the targets end up being the same in both cases. The main reason why the original implementation uses relative coordinates is because it makes coding some box operations more convenient. This defaults to `False`.\n",
    "\n",
    "These paramters might be a bit much at first, but they allow you to configure many things easily.\n",
    "\n",
    "The parameters set below are not only needed to build the model, but are also passed to the `SSDBoxEncoder` constructor in the subsequent cell, which is responsible for matching and encoding ground truth boxes and anchor boxes during training. In order to do that, it needs to know the anchor box specifications. It is for the same reason that `build_model()` does not only return the model itself, but also `predictor_sizes`, a list of the spatial sizes of the convolutional predictor layers - `SSDBoxEncoder` needs this information to know where the anchor boxes must be placed spatially.\n",
    "\n",
    "The original Caffe implementation does pretty much everything inside a model layer: The ground truth boxes are matched and encoded inside [MultiBoxLossLayer](https://github.com/weiliu89/caffe/blob/ssd/src/caffe/layers/multibox_loss_layer.cpp), and box decoding, confidence thresholding and non-maximum suppression is performed in [DetectionOutputLayer](https://github.com/weiliu89/caffe/blob/ssd/src/caffe/layers/detection_output_layer.cpp). In contrast to that, in the current form of this implementation, ground truth box matching and encoding happens as part of the mini batch generation (i.e. outside of the model itself). To be specific, the `generate()` method of `BatchGenerator` calls the `encode_y()` method of `SSDBoxEncoder` to encode the ground truth labels, and then yields the matched and encoded target tensor to be passed to the loss function. Similarly, the model here outputs the raw prediction tensor. The decoding, confidence thresholding, and non-maximum suppression (NMS) is then performed by `decode_y2()`, i.e. also outside the model. It's (almost) the same process as in the original Caffe implmentation, it's just that the code is organized differently here, which likely has performance implications, but I haven't measured it yet. I might look into incorporating all processing steps inside the model itself, but for now it was just easier to take the non-learning-relevant steps outside of Keras/Tensorflow. This is one advantage of Caffe: It's more convenient to write complex custom layers in plain C++ than to grapple with the Keras/Tensorflow API."
   ]
  },
  {
   "cell_type": "markdown",
   "metadata": {},
   "source": [
    "### Note:\n",
    "\n",
    "The example setup below was used to train SSD7 on two street traffic datasets released by [Udacity](https://github.com/udacity/self-driving-car/tree/master/annotations) with around 20,000 images in total and 5 object classes (car, truck, pedestrian, bicyclist, traffic light), although the vast majority of the objects are cars. The original datasets have a constant image size of 1200x1920 RGB. I consolidated the two datasets, removed a few bad samples (although there are probably many more), and resized the images to 300x480 RGB, i.e. to one sixteenth of the original image size. In case you'd like to train a model on the same dataset, you can find the consolidated and resized dataset I used [here](https://drive.google.com/file/d/0B0WbA4IemlxlT1IzQ0U1S2xHYVU/view?usp=sharing)."
   ]
  },
  {
   "cell_type": "markdown",
   "metadata": {},
   "source": [
    "<span style=\"color:blue\">\n",
    "changed image shape<br>\n",
    "number of classes - I have only 0, 1, 2 digits<br>\n",
    "changed scales - min/max + scales<br>\n",
    "</span>"
   ]
  },
  {
   "cell_type": "code",
   "execution_count": 2,
   "metadata": {},
   "outputs": [],
   "source": [
    "### Set up the model\n",
    "\n",
    "# 1: Set some necessary parameters\n",
    "\n",
    "img_height = 224 # Height of the input images\n",
    "img_width = 224 # Width of the input images\n",
    "img_channels = 3 # Number of color channels of the input images\n",
    "n_classes = 4 # Number of classes including the background class\n",
    "min_scale = 1.0 # The scaling factor for the smallest anchor boxes\n",
    "max_scale = 1.0 # The scaling factor for the largest anchor boxes\n",
    "scales = [1.0, 1.0, 1.0, 1.0, 1.0] # An explicit list of anchor box scaling factors. If this is passed, it will override `min_scale` and `max_scale`.\n",
    "aspect_ratios = [0.99, 1.0, 1.01] # The list of aspect ratios for the anchor boxes\n",
    "two_boxes_for_ar1 = True # Whether or not you want to generate two anchor boxes for aspect ratio 1\n",
    "limit_boxes = False # Whether or not you want to limit the anchor boxes to lie entirely within the image boundaries\n",
    "variances = [1.0, 1.0, 1.0, 1.0] # The list of variances by which the encoded target coordinates are scaled\n",
    "#centroids\n",
    "coords = 'minmax' # Whether the box coordinates to be used should be in the 'centroids' or 'minmax' format, see documentation\n",
    "normalize_coords = False # Whether or not the model is supposed to use relative coordinates that are within [0,1]\n",
    "\n",
    "# 2: Build the Keras model (and possibly load some trained weights)\n",
    "\n",
    "K.clear_session() # Clear previous models from memory.\n",
    "# The output `predictor_sizes` is needed below to set up `SSDBoxEncoder`\n",
    "model, predictor_sizes = build_model(image_size=(img_height, img_width, img_channels),\n",
    "                                      n_classes=n_classes,\n",
    "                                      min_scale=min_scale,\n",
    "                                      max_scale=max_scale,\n",
    "                                      scales=scales,\n",
    "                                      aspect_ratios_global=aspect_ratios,\n",
    "                                      aspect_ratios_per_layer=None,\n",
    "                                      two_boxes_for_ar1=two_boxes_for_ar1,\n",
    "                                      limit_boxes=limit_boxes,\n",
    "                                      variances=variances,\n",
    "                                      coords=coords,\n",
    "                                      normalize_coords=normalize_coords)\n",
    "#model.load_weights('./ssd7_0_weights.h5')\n",
    "#model = load_model('./ssd7_0.h5')"
   ]
  },
  {
   "cell_type": "markdown",
   "metadata": {},
   "source": [
    "### 2. Set up the training\n",
    "\n",
    "The cell below sets up everything necessary to train the model. The only things you have to set are the correct file paths to the images and labels in your dataset, and in case your labels do not come in a CSV file, you might have to switch from the CSV parser to the XML parser or you might have to write a new parser method in the `BatchGenerator` class that can handle whatever the format of your labels is. The README of this project provides an overview of the design of the batch generator class, which should help you in case you need to write a new parser or adapt one of the existing parsers to your needs.\n",
    "\n",
    "For everything in this cell that does not concern loading your data: You don't have to change anything (but you can change everything of course).\n",
    "\n",
    "Set the batch size to whatever value you like (and one that makes the model fit inside your GPU memory), it's not the most important hyperparameter - 32 works well, but so do most other batch sizes.\n",
    "\n",
    "I'm using an Adam optimizer with the standard initial learning rate of 0.001 and a small decay, nothing special.\n",
    "\n",
    "`SSDLoss` is a custom Keras loss function that implements the multi-task log loss for classification and smooth L1 loss for localization. `neg_pos_ratio` and `alpha` are set as in the paper and `n_neg_min` is a rather unimportant optional parameter to make sure that a certain number of negative boxes always enters the loss function even if there are very few or no positive boxes in a batch, which should never happen anyway.\n",
    "\n",
    "The `ssd_box_encoder` object, which, as explained above, knows how to match and encode the ground truth labels into the format that the model needs, is passed to the batch generator, which during training loads the next batch of images and labels, optionally performs data augmentation, and encodes the ground truth labels.\n",
    "\n",
    "There are two parameters in the SSDBoxEncoder that you should note: `pos_iou_threshold` and `neg_iou_threshold`. The former determines the minimum Jaccard overlap between a ground truth box and an anchor box for a match and is set to 0.5, the value stated in the paper. The latter, `neg_iou_threshold`, is not in the paper, but it is useful to improve the learning process. It determines the maximum allowed Jaccard overlap between an anchor box and any ground truth box in order for that anchor box to be considered a negative box. This is useful because you want a clear margin between negative and positive boxes. An anchor box that almost contains an object should not be forced to learn to predict a negative box in such a case. 0.2 is a reasonable value that is used by various other object detection models."
   ]
  },
  {
   "cell_type": "markdown",
   "metadata": {},
   "source": [
    "<span style=\"color:blue\">\n",
    "in this part i split labels into train / val dataset\n",
    "</span>"
   ]
  },
  {
   "cell_type": "code",
   "execution_count": 3,
   "metadata": {
    "collapsed": true
   },
   "outputs": [],
   "source": [
    "# ----\n",
    "# set train/val\n",
    "import os\n",
    "import shutil\n",
    "import pandas as pd\n",
    "import pathos.multiprocessing as multiprocessing\n",
    "from tqdm import tqdm, tqdm_notebook"
   ]
  },
  {
   "cell_type": "code",
   "execution_count": 4,
   "metadata": {
    "collapsed": true
   },
   "outputs": [],
   "source": [
    "folder_data = './data/generated_ver_1/images/'\n",
    "files = sorted((os.path.join(folder_data, x) for x in os.listdir(folder_data) if x[0] != '.'))\n",
    "np.random.seed(1)\n",
    "in_train = np.random.choice(files, size = int(len(files)*0.8))\n",
    "train_dir = './data/generated_ver_1/train/'\n",
    "val_dir = './data/generated_ver_1/val/'\n",
    "train_labels_path = './data/generated_ver_1/train_labels.csv'\n",
    "val_labels_path = './data/generated_ver_1/val_labels.csv'\n",
    "weight_dir = './data/generated_ver_1/weights/'\n",
    "!rm -rf $train_dir\n",
    "!rm -rf $val_dir\n",
    "!mkdir -p $train_dir\n",
    "!mkdir -p $val_dir\n",
    "!mkdir -p $weight_dir\n",
    "cmd_queue = []\n",
    "for file in files:\n",
    "    if file in in_train:\n",
    "        new_fname = os.path.join(train_dir, os.path.split(file)[1])\n",
    "    else:\n",
    "        new_fname = os.path.join(val_dir, os.path.split(file)[1])\n",
    "    #cmd = 'convert %s -resize 960x600 %s' % (file, new_fname)\n",
    "    cmd = 'cp %s %s' % (file, new_fname)\n",
    "    cmd_queue.append(cmd)\n",
    "    #shutil.copy(file, new_fname)"
   ]
  },
  {
   "cell_type": "code",
   "execution_count": 5,
   "metadata": {
    "scrolled": true
   },
   "outputs": [
    {
     "data": {
      "text/html": [
       "<div>\n",
       "<style>\n",
       "    .dataframe thead tr:only-child th {\n",
       "        text-align: right;\n",
       "    }\n",
       "\n",
       "    .dataframe thead th {\n",
       "        text-align: left;\n",
       "    }\n",
       "\n",
       "    .dataframe tbody tr th {\n",
       "        vertical-align: top;\n",
       "    }\n",
       "</style>\n",
       "<table border=\"1\" class=\"dataframe\">\n",
       "  <thead>\n",
       "    <tr style=\"text-align: right;\">\n",
       "      <th></th>\n",
       "      <th>fname</th>\n",
       "      <th>xmin</th>\n",
       "      <th>xmax</th>\n",
       "      <th>ymin</th>\n",
       "      <th>ymax</th>\n",
       "      <th>class_id</th>\n",
       "    </tr>\n",
       "  </thead>\n",
       "  <tbody>\n",
       "    <tr>\n",
       "      <th>0</th>\n",
       "      <td>00001178.png</td>\n",
       "      <td>50</td>\n",
       "      <td>73</td>\n",
       "      <td>174</td>\n",
       "      <td>217</td>\n",
       "      <td>3</td>\n",
       "    </tr>\n",
       "    <tr>\n",
       "      <th>1</th>\n",
       "      <td>00001178.png</td>\n",
       "      <td>102</td>\n",
       "      <td>125</td>\n",
       "      <td>122</td>\n",
       "      <td>165</td>\n",
       "      <td>1</td>\n",
       "    </tr>\n",
       "    <tr>\n",
       "      <th>2</th>\n",
       "      <td>00001178.png</td>\n",
       "      <td>122</td>\n",
       "      <td>145</td>\n",
       "      <td>179</td>\n",
       "      <td>222</td>\n",
       "      <td>1</td>\n",
       "    </tr>\n",
       "    <tr>\n",
       "      <th>3</th>\n",
       "      <td>00001178.png</td>\n",
       "      <td>145</td>\n",
       "      <td>168</td>\n",
       "      <td>129</td>\n",
       "      <td>172</td>\n",
       "      <td>1</td>\n",
       "    </tr>\n",
       "    <tr>\n",
       "      <th>4</th>\n",
       "      <td>00001178.png</td>\n",
       "      <td>195</td>\n",
       "      <td>218</td>\n",
       "      <td>62</td>\n",
       "      <td>105</td>\n",
       "      <td>1</td>\n",
       "    </tr>\n",
       "  </tbody>\n",
       "</table>\n",
       "</div>"
      ],
      "text/plain": [
       "          fname  xmin  xmax  ymin  ymax  class_id\n",
       "0  00001178.png    50    73   174   217         3\n",
       "1  00001178.png   102   125   122   165         1\n",
       "2  00001178.png   122   145   179   222         1\n",
       "3  00001178.png   145   168   129   172         1\n",
       "4  00001178.png   195   218    62   105         1"
      ]
     },
     "execution_count": 5,
     "metadata": {},
     "output_type": "execute_result"
    }
   ],
   "source": [
    "df = pd.read_csv('./data/generated_ver_1/labels.csv')\n",
    "df.head(5)\n",
    "# df = pd.read_csv('./data/generated_ver_1/labels.csv')\n",
    "# df['cx'] = ((df['xmin'] + df['xmax']) / 2).astype(int)\n",
    "# df['cy'] = ((df['ymin'] + df['ymax']) / 2).astype(int)\n",
    "# df['width'] = (df['xmax'] - df['xmin'])\n",
    "# df['height'] = (df['ymax'] - df['ymin'])\n",
    "# df.drop(['xmin', 'xmax', 'ymin', 'ymax'], axis=1, inplace=True)\n",
    "# df.rename(columns={'cx':'xmin', 'cy':'ymin', 'width':'xmax', 'height':'ymax'}, inplace=True)\n",
    "# df = df[['fname', 'xmin', 'xmax', 'ymin', 'ymax', 'class_id']].copy()\n",
    "# df.head(5)"
   ]
  },
  {
   "cell_type": "code",
   "execution_count": 6,
   "metadata": {
    "collapsed": true
   },
   "outputs": [],
   "source": [
    "train_df = df.loc[df['fname'].isin(set([os.path.split(x)[1] for x in in_train]))]\n",
    "train_df = train_df[['fname', 'xmin', 'xmax', 'ymin', 'ymax', 'class_id']]\n",
    "train_df.to_csv(train_labels_path, sep = ',', index = None)"
   ]
  },
  {
   "cell_type": "code",
   "execution_count": 7,
   "metadata": {
    "collapsed": true
   },
   "outputs": [],
   "source": [
    "val_df = df.loc[~df['fname'].isin(set([os.path.split(x)[1] for x in in_train]))]\n",
    "val_df = val_df[['fname', 'xmin', 'xmax', 'ymin', 'ymax', 'class_id']]\n",
    "val_df.to_csv(val_labels_path, sep = ',', index = None)"
   ]
  },
  {
   "cell_type": "code",
   "execution_count": 8,
   "metadata": {},
   "outputs": [
    {
     "data": {
      "application/vnd.jupyter.widget-view+json": {
       "model_id": "1936dd8582f444c1a82376c31eb28287"
      }
     },
     "metadata": {},
     "output_type": "display_data"
    },
    {
     "name": "stdout",
     "output_type": "stream",
     "text": [
      "\n"
     ]
    }
   ],
   "source": [
    "with multiprocessing.Pool(multiprocessing.cpu_count() - 1) as pool:\n",
    "    def proc_cmd(x):\n",
    "        return os.popen(x).readlines()\n",
    "    filter_fnames = set(df['fname'])\n",
    "    filtered_queue = [x for x in cmd_queue if x.rsplit('/', 1)[1] in filter_fnames]\n",
    "    temp = pool.map(proc_cmd, tqdm_notebook(filtered_queue), chunksize = 30)"
   ]
  },
  {
   "cell_type": "markdown",
   "metadata": {},
   "source": [
    "<span style=\"color:blue\">\n",
    "now training\n",
    "I removed brigthness, flip, translate, scale\n",
    "</span>"
   ]
  },
  {
   "cell_type": "code",
   "execution_count": 9,
   "metadata": {
    "collapsed": true
   },
   "outputs": [],
   "source": [
    "### Set up training\n",
    "\n",
    "batch_size = 128\n",
    "\n",
    "# 3: Instantiate an Adam optimizer and the SSD loss function and compile the model\n",
    "\n",
    "adam = Adam(lr=0.001, beta_1=0.9, beta_2=0.999, epsilon=1e-08, decay=5e-05)\n",
    "\n",
    "ssd_loss = SSDLoss(neg_pos_ratio=3, n_neg_min=0, alpha=1.0)\n",
    "\n",
    "model.compile(optimizer=adam, loss=ssd_loss.compute_loss)\n",
    "\n",
    "# 4: Instantiate an encoder that can encode ground truth labels into the format needed by the SSD loss function \n",
    "\n",
    "ssd_box_encoder = SSDBoxEncoder(img_height=img_height,\n",
    "                                img_width=img_width,\n",
    "                                n_classes=n_classes, \n",
    "                                predictor_sizes=predictor_sizes,\n",
    "                                min_scale=min_scale,\n",
    "                                max_scale=max_scale,\n",
    "                                scales=scales,\n",
    "                                aspect_ratios_global=aspect_ratios,\n",
    "                                aspect_ratios_per_layer=None,\n",
    "                                two_boxes_for_ar1=two_boxes_for_ar1,\n",
    "                                limit_boxes=limit_boxes,\n",
    "                                variances=variances,\n",
    "                                pos_iou_threshold=0.5,\n",
    "                                neg_iou_threshold=0.2,\n",
    "                                coords=coords,\n",
    "                                normalize_coords=normalize_coords)\n",
    "\n",
    "# 5: Create the training set batch generator\n",
    "\n",
    "train_dataset = BatchGenerator(images_path=train_dir,\n",
    "                               include_classes='all',\n",
    "                               box_output_format=['class_id', 'xmin', 'xmax', 'ymin', 'ymax']) # This is the format in which the generator is supposed to output the labels. At the moment it **must** be the format set here.\n",
    "\n",
    "train_dataset.parse_csv(labels_path=train_labels_path,\n",
    "                        input_format=['image_name', 'xmin', 'xmax', 'ymin', 'ymax', 'class_id']) # This is the order of the first six columns in the CSV file that contains the labels for your dataset. If your labels are in XML format, maybe the XML parser will be helpful, check the documentation.\n",
    "\n",
    "# Change the online data augmentation settings as you like\n",
    "train_generator = train_dataset.generate(batch_size=batch_size,\n",
    "                                         train=True,\n",
    "                                         ssd_box_encoder=ssd_box_encoder,\n",
    "                                         equalize=False,\n",
    "                                         brightness=None, # Randomly change brightness between 0.5 and 2 with probability 0.5\n",
    "                                         flip=None, # Randomly flip horizontally with probability 0.5\n",
    "                                         translate=None, # Randomly translate by 5-50 pixels horizontally and 3-30 pixels vertically with probability 0.5\n",
    "                                         scale=None, # Randomly scale between 0.75 and 1.3 with probability 0.5\n",
    "                                         random_crop=False,\n",
    "                                         crop=False,\n",
    "                                         resize=False,\n",
    "                                         gray=False,\n",
    "                                         limit_boxes=True,\n",
    "                                         include_thresh=0.4,\n",
    "                                         diagnostics=False)\n",
    "\n",
    "n_train_samples = train_dataset.get_n_samples()\n",
    "\n",
    "# 6: Create the validation set batch generator (if you want to use a validation dataset)\n",
    "\n",
    "val_dataset = BatchGenerator(images_path=val_dir,\n",
    "                             include_classes='all',\n",
    "                             box_output_format=['class_id', 'xmin', 'xmax', 'ymin', 'ymax'])\n",
    "\n",
    "val_dataset.parse_csv(labels_path=val_labels_path,\n",
    "                      input_format=['image_name', 'xmin', 'xmax', 'ymin', 'ymax', 'class_id'])\n",
    "\n",
    "val_generator = val_dataset.generate(batch_size=batch_size,\n",
    "                                     train=True,\n",
    "                                     ssd_box_encoder=ssd_box_encoder,\n",
    "                                     equalize=False,\n",
    "                                     brightness=False,\n",
    "                                     flip=False,\n",
    "                                     translate=False,\n",
    "                                     scale=False,\n",
    "                                     random_crop=False,\n",
    "                                     crop=False,\n",
    "                                     resize=False,\n",
    "                                     gray=False,\n",
    "                                     limit_boxes=True,\n",
    "                                     include_thresh=0.4,\n",
    "                                     diagnostics=False)\n",
    "\n",
    "n_val_samples = val_dataset.get_n_samples()"
   ]
  },
  {
   "cell_type": "markdown",
   "metadata": {},
   "source": [
    "### 3. Run the training\n",
    "\n",
    "Now that everything is set up, we're ready to start training. Set the number of epochs and the model name, the weights name in `ModelCheckpoint` and the filepaths to wherever you'd like to save the model. There isn't much more to say here, just execute the cell. If you get \"out of memory\" errors during training, reduce the batch size.\n",
    "\n",
    "Training currently only monitors the validation loss, not the mAP."
   ]
  },
  {
   "cell_type": "markdown",
   "metadata": {},
   "source": [
    "<span style=\"color:blue\">\n",
    "changed image shape<br>\n",
    "number of classes - I have only 0, 1, 2 digits<br>\n",
    "changed scales - min/max + scales<br>\n",
    "</span>"
   ]
  },
  {
   "cell_type": "code",
   "execution_count": 10,
   "metadata": {
    "scrolled": true
   },
   "outputs": [
    {
     "name": "stdout",
     "output_type": "stream",
     "text": [
      "Epoch 1/1000\n",
      "43/44 [============================>.] - ETA: 0s - loss: 0.0495Epoch 00000: val_loss improved from inf to 0.05803, saving model to ./data/generated_ver_1/weights/ssd7_0_weights_epoch00_loss0.0501.h5\n",
      "44/44 [==============================] - 47s - loss: 0.0551 - val_loss: 0.0580\n",
      "Epoch 2/1000\n",
      "43/44 [============================>.] - ETA: 0s - loss: 0.0277Epoch 00001: val_loss improved from 0.05803 to 0.05694, saving model to ./data/generated_ver_1/weights/ssd7_0_weights_epoch01_loss0.0282.h5\n",
      "44/44 [==============================] - 42s - loss: 0.0331 - val_loss: 0.0569\n",
      "Epoch 3/1000\n",
      "43/44 [============================>.] - ETA: 0s - loss: 0.0265Epoch 00002: val_loss improved from 0.05694 to 0.04926, saving model to ./data/generated_ver_1/weights/ssd7_0_weights_epoch02_loss0.0271.h5\n",
      "44/44 [==============================] - 42s - loss: 0.0319 - val_loss: 0.0493\n",
      "Epoch 4/1000\n",
      "43/44 [============================>.] - ETA: 0s - loss: 0.0278Epoch 00003: val_loss did not improve\n",
      "44/44 [==============================] - 42s - loss: 0.0331 - val_loss: 0.0538\n",
      "Epoch 5/1000\n",
      "43/44 [============================>.] - ETA: 0s - loss: 0.0253Epoch 00004: val_loss did not improve\n",
      "44/44 [==============================] - 42s - loss: 0.0306 - val_loss: 0.0500\n",
      "Epoch 6/1000\n",
      "43/44 [============================>.] - ETA: 0s - loss: 0.0247Epoch 00005: val_loss improved from 0.04926 to 0.04677, saving model to ./data/generated_ver_1/weights/ssd7_0_weights_epoch05_loss0.0252.h5\n",
      "44/44 [==============================] - 42s - loss: 0.0299 - val_loss: 0.0468\n",
      "Epoch 7/1000\n",
      "43/44 [============================>.] - ETA: 0s - loss: 0.0246Epoch 00006: val_loss improved from 0.04677 to 0.04262, saving model to ./data/generated_ver_1/weights/ssd7_0_weights_epoch06_loss0.0251.h5\n",
      "44/44 [==============================] - 42s - loss: 0.0296 - val_loss: 0.0426\n",
      "Epoch 8/1000\n",
      "43/44 [============================>.] - ETA: 0s - loss: 0.0245Epoch 00007: val_loss improved from 0.04262 to 0.03514, saving model to ./data/generated_ver_1/weights/ssd7_0_weights_epoch07_loss0.0250.h5\n",
      "44/44 [==============================] - 42s - loss: 0.0298 - val_loss: 0.0351\n",
      "Epoch 9/1000\n",
      "43/44 [============================>.] - ETA: 0s - loss: 0.0242Epoch 00008: val_loss improved from 0.03514 to 0.02641, saving model to ./data/generated_ver_1/weights/ssd7_0_weights_epoch08_loss0.0247.h5\n",
      "44/44 [==============================] - 42s - loss: 0.0294 - val_loss: 0.0264\n",
      "Epoch 10/1000\n",
      "43/44 [============================>.] - ETA: 0s - loss: 0.0261Epoch 00009: val_loss did not improve\n",
      "44/44 [==============================] - 42s - loss: 0.0316 - val_loss: 0.0277\n",
      "Epoch 11/1000\n",
      "43/44 [============================>.] - ETA: 0s - loss: 0.0244Epoch 00010: val_loss did not improve\n",
      "44/44 [==============================] - 42s - loss: 0.0296 - val_loss: 0.0267\n",
      "Epoch 12/1000\n",
      "43/44 [============================>.] - ETA: 0s - loss: 0.0241Epoch 00011: val_loss improved from 0.02641 to 0.02564, saving model to ./data/generated_ver_1/weights/ssd7_0_weights_epoch11_loss0.0246.h5\n",
      "44/44 [==============================] - 42s - loss: 0.0293 - val_loss: 0.0256\n",
      "Epoch 13/1000\n",
      "43/44 [============================>.] - ETA: 0s - loss: 0.0240Epoch 00012: val_loss improved from 0.02564 to 0.02527, saving model to ./data/generated_ver_1/weights/ssd7_0_weights_epoch12_loss0.0245.h5\n",
      "44/44 [==============================] - 42s - loss: 0.0292 - val_loss: 0.0253\n",
      "Epoch 14/1000\n",
      "43/44 [============================>.] - ETA: 0s - loss: 0.0240Epoch 00013: val_loss improved from 0.02527 to 0.02507, saving model to ./data/generated_ver_1/weights/ssd7_0_weights_epoch13_loss0.0245.h5\n",
      "44/44 [==============================] - 42s - loss: 0.0290 - val_loss: 0.0251\n",
      "Epoch 15/1000\n",
      "43/44 [============================>.] - ETA: 0s - loss: 0.0240Epoch 00014: val_loss improved from 0.02507 to 0.02486, saving model to ./data/generated_ver_1/weights/ssd7_0_weights_epoch14_loss0.0245.h5\n",
      "44/44 [==============================] - 42s - loss: 0.0292 - val_loss: 0.0249\n",
      "Epoch 16/1000\n",
      "43/44 [============================>.] - ETA: 0s - loss: 0.0240Epoch 00015: val_loss improved from 0.02486 to 0.02479, saving model to ./data/generated_ver_1/weights/ssd7_0_weights_epoch15_loss0.0244.h5\n",
      "44/44 [==============================] - 42s - loss: 0.0290 - val_loss: 0.0248\n",
      "Epoch 17/1000\n",
      "43/44 [============================>.] - ETA: 0s - loss: 0.0239Epoch 00016: val_loss improved from 0.02479 to 0.02471, saving model to ./data/generated_ver_1/weights/ssd7_0_weights_epoch16_loss0.0244.h5\n",
      "44/44 [==============================] - 43s - loss: 0.0289 - val_loss: 0.0247\n",
      "Epoch 18/1000\n",
      "43/44 [============================>.] - ETA: 0s - loss: 0.0239Epoch 00017: val_loss improved from 0.02471 to 0.02464, saving model to ./data/generated_ver_1/weights/ssd7_0_weights_epoch17_loss0.0244.h5\n",
      "44/44 [==============================] - 42s - loss: 0.0291 - val_loss: 0.0246\n",
      "Epoch 19/1000\n",
      "43/44 [============================>.] - ETA: 0s - loss: 0.0239Epoch 00018: val_loss improved from 0.02464 to 0.02463, saving model to ./data/generated_ver_1/weights/ssd7_0_weights_epoch18_loss0.0244.h5\n",
      "44/44 [==============================] - 43s - loss: 0.0290 - val_loss: 0.0246\n",
      "Epoch 20/1000\n",
      "43/44 [============================>.] - ETA: 0s - loss: 0.0239Epoch 00019: val_loss did not improve\n",
      "44/44 [==============================] - 42s - loss: 0.0292 - val_loss: 0.0246\n",
      "Epoch 21/1000\n",
      "43/44 [============================>.] - ETA: 0s - loss: 0.0239Epoch 00020: val_loss did not improve\n",
      "44/44 [==============================] - 42s - loss: 0.0292 - val_loss: 0.0247\n",
      "Epoch 22/1000\n",
      "43/44 [============================>.] - ETA: 0s - loss: 0.0239Epoch 00021: val_loss improved from 0.02463 to 0.02460, saving model to ./data/generated_ver_1/weights/ssd7_0_weights_epoch21_loss0.0244.h5\n",
      "44/44 [==============================] - 42s - loss: 0.0290 - val_loss: 0.0246\n",
      "Epoch 23/1000\n",
      "43/44 [============================>.] - ETA: 0s - loss: 0.0239Epoch 00022: val_loss did not improve\n",
      "44/44 [==============================] - 43s - loss: 0.0291 - val_loss: 0.0247\n",
      "Epoch 24/1000\n",
      "43/44 [============================>.] - ETA: 0s - loss: 0.0239Epoch 00023: val_loss did not improve\n",
      "44/44 [==============================] - 42s - loss: 0.0293 - val_loss: 0.0248\n",
      "\n",
      "Model saved as ssd7_001.h5\n",
      "Weights also saved separately as ssd7_001_weights.h5\n",
      "\n"
     ]
    }
   ],
   "source": [
    "### Run training\n",
    "\n",
    "# 6: Run training\n",
    "\n",
    "epochs = 1000\n",
    "\n",
    "history = model.fit_generator(generator = train_generator,\n",
    "                              steps_per_epoch = ceil(n_train_samples/batch_size),\n",
    "                              epochs = epochs,\n",
    "                              callbacks = [ModelCheckpoint(os.path.join(weight_dir,\n",
    "                                                                        'ssd7_0_weights_epoch{epoch:02d}_loss{loss:.4f}.h5'),\n",
    "                                                           monitor='val_loss',\n",
    "                                                           verbose=1,\n",
    "                                                           save_best_only=True,\n",
    "                                                           save_weights_only=True,\n",
    "                                                           mode='auto',\n",
    "                                                           period=1),\n",
    "                                           EarlyStopping(monitor='val_loss',\n",
    "                                                         min_delta=0.001,\n",
    "                                                         patience=10),\n",
    "                                           ReduceLROnPlateau(monitor='val_loss',\n",
    "                                                             factor=0.5,\n",
    "                                                             patience=0,\n",
    "                                                             epsilon=0.001,\n",
    "                                                             cooldown=0)],\n",
    "                              validation_data = val_generator,\n",
    "                              validation_steps = ceil(n_val_samples/batch_size))\n",
    "\n",
    "model_name = 'ssd7_001'\n",
    "model.save(os.path.join(weight_dir, '{}.h5'.format(model_name)))\n",
    "model.save_weights(os.path.join(weight_dir, '{}_weights.h5'.format(model_name)))\n",
    "\n",
    "print()\n",
    "print(\"Model saved as {}.h5\".format(model_name))\n",
    "print(\"Weights also saved separately as {}_weights.h5\".format(model_name))\n",
    "print()"
   ]
  },
  {
   "cell_type": "markdown",
   "metadata": {},
   "source": [
    "### 4. Make predictions\n",
    "\n",
    "Now let's make some predictions on the validation dataset with the trained model. We'll use the validation generator which we've already set up above. If you did not use a validation dataset, change \"val_dataset\" to \"train_dataset\" below (or whatever you called the `BatchGenerator` instance you used for training above). Feel free to change the batch size."
   ]
  },
  {
   "cell_type": "markdown",
   "metadata": {},
   "source": [
    "<span style=\"color:blue\">\n",
    "changed threshold only\n",
    "</span>"
   ]
  },
  {
   "cell_type": "code",
   "execution_count": 11,
   "metadata": {
    "collapsed": true
   },
   "outputs": [],
   "source": [
    "### Make predictions\n",
    "\n",
    "# 1: Set the generator\n",
    "\n",
    "predict_generator = val_dataset.generate(batch_size=1,\n",
    "                                         train=False,\n",
    "                                         equalize=False,\n",
    "                                         brightness=False,\n",
    "                                         flip=False,\n",
    "                                         translate=False,\n",
    "                                         scale=False,\n",
    "                                         random_crop=False,\n",
    "                                         crop=False,\n",
    "                                         resize=False,\n",
    "                                         gray=False,\n",
    "                                         limit_boxes=True,\n",
    "                                         include_thresh=0.1,\n",
    "                                         diagnostics=False)"
   ]
  },
  {
   "cell_type": "code",
   "execution_count": 12,
   "metadata": {},
   "outputs": [
    {
     "name": "stdout",
     "output_type": "stream",
     "text": [
      "Image: 00009365.png\n",
      "\n",
      "Ground truth boxes:\n",
      "\n",
      "[[  1 133 156 177 220]\n",
      " [  2  18  41 175 218]\n",
      " [  2  44  67 172 215]\n",
      " [  2  53  76  34  77]\n",
      " [  2 185 208  99 142]\n",
      " [  3  70  93  96 139]\n",
      " [  3  78 101  36  79]\n",
      " [  3 116 139  64 107]\n",
      " [  3 185 208   6  49]\n",
      " [  3 197 220 163 206]]\n"
     ]
    }
   ],
   "source": [
    "# 2: Generate samples\n",
    "\n",
    "while True:\n",
    "    X, y_true, filenames = next(predict_generator)\n",
    "    if sum([1 if x[0] == 2 else 0 for x in y_true[0]]) > 0:\n",
    "        break\n",
    "\n",
    "i = 0 # Which batch item to look at\n",
    "\n",
    "print(\"Image:\", filenames[i])\n",
    "print()\n",
    "print(\"Ground truth boxes:\\n\")\n",
    "print(y_true[i])"
   ]
  },
  {
   "cell_type": "code",
   "execution_count": 13,
   "metadata": {
    "collapsed": true
   },
   "outputs": [],
   "source": [
    "# 3: Make a prediction\n",
    "\n",
    "y_pred = model.predict(X)"
   ]
  },
  {
   "cell_type": "markdown",
   "metadata": {},
   "source": [
    "Now let's decode the raw prediction `y_pred`. The function `decode_y2()` converts the box coordinates from offsets back to absolute coordinates, keeps only the positive predictions (i.e. throws away all boxes for which the highest confidence is for class 0), applies a confidence threshold to all positive predictions, and applies non-maximum suppression to the remaining predictions, in this order. In case you would like to omit the NMS step, set `iou_threshold = None`.\n",
    "\n",
    "You could also use `decode_y()`, which follows the prodecure outlined in the paper, to decode the raw predictions, but `decode_y2()` is more efficient and I found it yields better results. Check out the documentation for details on how the two decoders differ."
   ]
  },
  {
   "cell_type": "code",
   "execution_count": 14,
   "metadata": {},
   "outputs": [
    {
     "name": "stdout",
     "output_type": "stream",
     "text": [
      "Decoded predictions (output format is [class_id, confidence, xmin, xmax, ymin, ymax]):\n",
      "\n",
      "[[   1.            0.45555237  -77.50762177 -278.64358521   38.37693787\n",
      "   134.81251526]\n",
      " [   3.            0.40481433   63.58898163  168.8598938    41.04171753\n",
      "   224.21353149]\n",
      " [   3.            0.3305963   -81.73096466 -283.92364502   45.72115326\n",
      "   143.79510498]]\n"
     ]
    }
   ],
   "source": [
    "# 4: Decode the raw prediction `y_pred`\n",
    "\n",
    "y_pred_decoded = decode_y2(y_pred,\n",
    "                           confidence_thresh=0.05,\n",
    "                          iou_threshold=0.04,\n",
    "                          top_k='all',\n",
    "                          input_coords='centroids',\n",
    "                          normalize_coords=False,\n",
    "                          img_height=None,\n",
    "                          img_width=None)\n",
    "\n",
    "print(\"Decoded predictions (output format is [class_id, confidence, xmin, xmax, ymin, ymax]):\\n\")\n",
    "print(y_pred_decoded[i])"
   ]
  },
  {
   "cell_type": "markdown",
   "metadata": {},
   "source": [
    "Finally, let's draw the predicted boxes onto the image in blue to visualize the result. Each predicted box says its confidence next to the category name. The ground truth boxes are also drawn onto the image in green for comparison."
   ]
  },
  {
   "cell_type": "code",
   "execution_count": 15,
   "metadata": {
    "collapsed": true
   },
   "outputs": [],
   "source": [
    "# here just in case previous won't work\n",
    "y_pred_decoded = decode_y(y_pred, confidence_thresh=0.12)"
   ]
  },
  {
   "cell_type": "code",
   "execution_count": 16,
   "metadata": {
    "scrolled": true
   },
   "outputs": [
    {
     "data": {
      "text/plain": [
       "array([[   1,    0,  -77, -278,   38,  134],\n",
       "       [   1,    0,    3,  -34,   42,  137],\n",
       "       [   1,    0,  -10,  -41,   35,  136],\n",
       "       [   1,    0,  -21,    7,   25,  201],\n",
       "       [   1,    0,   17,  -61,   57,  154],\n",
       "       [   1,    0,  -15,  -68,   -6,   95],\n",
       "       [   2,    0,  -77, -278,   38,  134],\n",
       "       [   2,    0,  -81, -283,   45,  143],\n",
       "       [   2,    0,   63,  168,   41,  224],\n",
       "       [   2,    0,  -95,   24, -106,   54],\n",
       "       [   2,    0,  -47,   71,  -54,  101],\n",
       "       [   3,    0,   63,  168,   41,  224],\n",
       "       [   3,    0,  -81, -283,   45,  143],\n",
       "       [   3,    0,  -78, -283,   64,  160],\n",
       "       [   3,    0,  -77, -278,   38,  134]])"
      ]
     },
     "execution_count": 16,
     "metadata": {},
     "output_type": "execute_result"
    }
   ],
   "source": [
    "y_pred_decoded[0].astype(int)"
   ]
  },
  {
   "cell_type": "markdown",
   "metadata": {},
   "source": [
    "<span style=\"color:blue\">\n",
    "changed labels a little\n",
    "</span>"
   ]
  },
  {
   "cell_type": "code",
   "execution_count": 17,
   "metadata": {},
   "outputs": [
    {
     "data": {
      "image/png": "[encoded data removed]",
      "text/plain": [
       "<matplotlib.figure.Figure at 0x7fbff9670a58>"
      ]
     },
     "metadata": {},
     "output_type": "display_data"
    }
   ],
   "source": [
    "# 5: Draw the predicted boxes onto the image\n",
    "\n",
    "plt.figure(figsize=(20,12))\n",
    "plt.imshow(X[i])\n",
    "\n",
    "current_axis = plt.gca()\n",
    "\n",
    "classes = ['background', '0', '1', '2'] # Just so we can print class names onto the image instead of IDs\n",
    "\n",
    "# Draw the predicted boxes in blue\n",
    "for box in y_pred_decoded[i]:\n",
    "    label = '{}: {:.2f}'.format(classes[int(box[0])], box[1])\n",
    "    if int(box[0]) == 0:\n",
    "        continue\n",
    "    current_axis.add_patch(plt.Rectangle((box[2], box[4]), box[3]-box[2], box[5]-box[4], color='blue', fill=False, linewidth=2))  \n",
    "    current_axis.text(box[2], box[4], label, size='x-large', color='white', bbox={'facecolor':'blue', 'alpha':1.0})\n",
    "\n",
    "# Draw the ground truth boxes in green (omit the label for more clarity)\n",
    "for box in y_true[i]:\n",
    "    label = '{}'.format(classes[int(box[0])])\n",
    "    current_axis.add_patch(plt.Rectangle((box[1], box[3]), box[2]-box[1], box[4]-box[3], color='green', fill=False, linewidth=2))  \n",
    "    #current_axis.text(box[1], box[3], label, size='x-large', color='white', bbox={'facecolor':'green', 'alpha':1.0})"
   ]
  },
  {
   "cell_type": "code",
   "execution_count": null,
   "metadata": {
    "collapsed": true
   },
   "outputs": [],
   "source": []
  }
 ],
 "metadata": {
  "kernelspec": {
   "display_name": "Python 3",
   "language": "python",
   "name": "python3"
  },
  "language_info": {
   "codemirror_mode": {
    "name": "ipython",
    "version": 3
   },
   "file_extension": ".py",
   "mimetype": "text/x-python",
   "name": "python",
   "nbconvert_exporter": "python",
   "pygments_lexer": "ipython3",
   "version": "3.5.2"
  }
 },
 "nbformat": 4,
 "nbformat_minor": 2
}
