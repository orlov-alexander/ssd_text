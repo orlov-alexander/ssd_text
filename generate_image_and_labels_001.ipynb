{
 "cells": [
  {
   "cell_type": "code",
   "execution_count": 1,
   "metadata": {
    "collapsed": true
   },
   "outputs": [],
   "source": [
    "import numpy as np\n",
    "import pandas as pd\n",
    "from tqdm import tqdm_notebook\n",
    "import os\n",
    "import pathos.multiprocessing\n",
    "import itertools\n",
    "from collections import Counter, OrderedDict\n",
    "from string import ascii_lowercase, ascii_uppercase, digits\n",
    "from PIL import Image, ImageFont, ImageDraw, ImageEnhance\n",
    "\n",
    "class Character:\n",
    "    def __init__(self, possible_symbols, font):\n",
    "        self.char = np.random.choice(possible_symbols, size=1)[0]\n",
    "        self.x_size, self.y_size = draw.textsize(self.char, font=font)\n",
    "        self.x, self.y = -1, -1\n",
    "        \n",
    "def _is_overlapping(x1_1, x1_2, y1_1, y1_2, x2_1, x2_2, y2_1, y2_2):\n",
    "    if (x1_2 < x2_1) or (x1_1 > x2_2):\n",
    "        return False\n",
    "    if (y1_2 < y2_1) or (y1_1 > y2_2):\n",
    "        return False\n",
    "    return True\n",
    "\n",
    "def is_overlapping(x, other_symbols):\n",
    "    for i in other_symbols:\n",
    "        if _is_overlapping(s.x, s.x + s.x_size, s.y, s.y + s.y_size,\n",
    "                           i.x, i.x + i.x_size, i.y, i.y + i.y_size):\n",
    "            return True\n",
    "    return False\n",
    "\n",
    "def draw_symbols(symbols, draw, font):\n",
    "    for s in symbols:\n",
    "        draw.text((s.x, s.y), s.char, font=font)\n",
    "        #draw.rectangle(((s.x, s.y), (s.x + s.x_size, s.y + s.y_size)), outline=\"white\")\n",
    "    return draw"
   ]
  },
  {
   "cell_type": "code",
   "execution_count": 2,
   "metadata": {
    "collapsed": true
   },
   "outputs": [],
   "source": [
    "# we create a blank image first\n",
    "# then we copy it and add some text\n",
    "blank_filename = '123.png'\n",
    "blank_image = Image.new('RGB', (224, 224))\n",
    "blank_image.save(blank_filename, \"PNG\")\n",
    "fontsize = 40\n",
    "N_SYMBOLS = 2\n",
    "N_FILES = 10000\n",
    "font = ImageFont.truetype(\"./fonts/opensans/OpenSans-Regular.ttf\", fontsize)\n",
    "possible_symbols = list(['0', '1', '2'])\n",
    "possible_symbols_dict = OrderedDict([(x, n + 1) for n, x in enumerate(possible_symbols)])\n",
    "labels = {}\n",
    "\n",
    "output_folder = './data/generated_ver_1/'\n",
    "output_folder_images = os.path.join(output_folder, 'images/')\n",
    "output_labels_filename = os.path.join(output_folder, 'labels.csv')\n",
    "!rm -rf $output_folder\n",
    "!mkdir -p $output_folder_images"
   ]
  },
  {
   "cell_type": "code",
   "execution_count": 3,
   "metadata": {},
   "outputs": [
    {
     "data": {
      "application/vnd.jupyter.widget-view+json": {
       "model_id": "c6b2665d388444ffaa11e9a2478322ec"
      }
     },
     "metadata": {},
     "output_type": "display_data"
    },
    {
     "name": "stdout",
     "output_type": "stream",
     "text": [
      "\n"
     ]
    }
   ],
   "source": [
    "# generate dataset:\n",
    "for i in tqdm_notebook(range(N_FILES)):\n",
    "    out_filename = '%0.8d.png' % i\n",
    "    out_full_filename = os.path.join(output_folder_images, out_filename)\n",
    "    source_img = Image.open(blank_filename).convert(\"RGB\")\n",
    "    draw = ImageDraw.Draw(source_img)\n",
    "    N_SYMBOLS = 10\n",
    "    raw_symbols = [Character(possible_symbols = possible_symbols, font = font) for _ in range(N_SYMBOLS)]\n",
    "    \n",
    "    symbols = []\n",
    "    for s in raw_symbols:\n",
    "        while True:\n",
    "            s.x, s.y = np.random.randint(0, 224 - s.x_size), np.random.randint(0, 224 - s.y_size)\n",
    "            if not is_overlapping(s, symbols):\n",
    "                break\n",
    "        symbols.append(s)\n",
    "    \n",
    "    labels[out_filename] = symbols\n",
    "    draw_symbols(symbols, draw, font)\n",
    "    source_img.save(out_full_filename, \"PNG\")"
   ]
  },
  {
   "cell_type": "code",
   "execution_count": 4,
   "metadata": {},
   "outputs": [
    {
     "data": {
      "text/html": [
       "<div>\n",
       "<style>\n",
       "    .dataframe thead tr:only-child th {\n",
       "        text-align: right;\n",
       "    }\n",
       "\n",
       "    .dataframe thead th {\n",
       "        text-align: left;\n",
       "    }\n",
       "\n",
       "    .dataframe tbody tr th {\n",
       "        vertical-align: top;\n",
       "    }\n",
       "</style>\n",
       "<table border=\"1\" class=\"dataframe\">\n",
       "  <thead>\n",
       "    <tr style=\"text-align: right;\">\n",
       "      <th></th>\n",
       "      <th>fname</th>\n",
       "      <th>xmin</th>\n",
       "      <th>xmax</th>\n",
       "      <th>ymin</th>\n",
       "      <th>ymax</th>\n",
       "      <th>class_id</th>\n",
       "    </tr>\n",
       "  </thead>\n",
       "  <tbody>\n",
       "    <tr>\n",
       "      <th>0</th>\n",
       "      <td>00001178.png</td>\n",
       "      <td>50</td>\n",
       "      <td>73</td>\n",
       "      <td>174</td>\n",
       "      <td>217</td>\n",
       "      <td>3</td>\n",
       "    </tr>\n",
       "    <tr>\n",
       "      <th>1</th>\n",
       "      <td>00001178.png</td>\n",
       "      <td>102</td>\n",
       "      <td>125</td>\n",
       "      <td>122</td>\n",
       "      <td>165</td>\n",
       "      <td>1</td>\n",
       "    </tr>\n",
       "    <tr>\n",
       "      <th>2</th>\n",
       "      <td>00001178.png</td>\n",
       "      <td>122</td>\n",
       "      <td>145</td>\n",
       "      <td>179</td>\n",
       "      <td>222</td>\n",
       "      <td>1</td>\n",
       "    </tr>\n",
       "    <tr>\n",
       "      <th>3</th>\n",
       "      <td>00001178.png</td>\n",
       "      <td>145</td>\n",
       "      <td>168</td>\n",
       "      <td>129</td>\n",
       "      <td>172</td>\n",
       "      <td>1</td>\n",
       "    </tr>\n",
       "    <tr>\n",
       "      <th>4</th>\n",
       "      <td>00001178.png</td>\n",
       "      <td>195</td>\n",
       "      <td>218</td>\n",
       "      <td>62</td>\n",
       "      <td>105</td>\n",
       "      <td>1</td>\n",
       "    </tr>\n",
       "  </tbody>\n",
       "</table>\n",
       "</div>"
      ],
      "text/plain": [
       "          fname  xmin  xmax  ymin  ymax  class_id\n",
       "0  00001178.png    50    73   174   217         3\n",
       "1  00001178.png   102   125   122   165         1\n",
       "2  00001178.png   122   145   179   222         1\n",
       "3  00001178.png   145   168   129   172         1\n",
       "4  00001178.png   195   218    62   105         1"
      ]
     },
     "metadata": {},
     "output_type": "display_data"
    }
   ],
   "source": [
    "# generate labels for dataset\n",
    "labels_for_df = [[(filename, s.x, s.x + s.x_size, \n",
    "                  s.y, s.y + s.y_size, possible_symbols_dict[s.char]) for s in many_symbols]\n",
    "                                                                      for filename, many_symbols in labels.items()]\n",
    "labels_df = pd.DataFrame(list(itertools.chain.from_iterable(labels_for_df)), \n",
    "                         columns = ['fname', 'xmin', 'xmax', 'ymin', 'ymax', 'class_id'])\n",
    "display(labels_df.head(5))\n",
    "labels_df.to_csv(output_labels_filename, index=None, sep=',')"
   ]
  },
  {
   "cell_type": "code",
   "execution_count": 5,
   "metadata": {},
   "outputs": [
    {
     "data": {
      "image/png": "[encoded data removed]",
      "text/plain": [
       "<PIL.PngImagePlugin.PngImageFile image mode=RGB size=224x224 at 0x7F4F502F70F0>"
      ]
     },
     "execution_count": 5,
     "metadata": {},
     "output_type": "execute_result"
    }
   ],
   "source": [
    "Image.open('./data/generated_ver_1/images/00000000.png')"
   ]
  }
 ],
 "metadata": {
  "kernelspec": {
   "display_name": "Python 3",
   "language": "python",
   "name": "python3"
  },
  "language_info": {
   "codemirror_mode": {
    "name": "ipython",
    "version": 3
   },
   "file_extension": ".py",
   "mimetype": "text/x-python",
   "name": "python",
   "nbconvert_exporter": "python",
   "pygments_lexer": "ipython3",
   "version": "3.5.2"
  }
 },
 "nbformat": 4,
 "nbformat_minor": 2
}
